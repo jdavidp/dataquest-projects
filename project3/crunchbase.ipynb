{
 "cells": [
  {
   "cell_type": "code",
   "execution_count": 388,
   "metadata": {
    "collapsed": true
   },
   "outputs": [],
   "source": [
    "import pandas as pd"
   ]
  },
  {
   "cell_type": "markdown",
   "metadata": {},
   "source": [
    "# Data snapshot"
   ]
  },
  {
   "cell_type": "code",
   "execution_count": 389,
   "metadata": {
    "collapsed": false
   },
   "outputs": [
    {
     "data": {
      "text/html": [
       "<div>\n",
       "<style scoped>\n",
       "    .dataframe tbody tr th:only-of-type {\n",
       "        vertical-align: middle;\n",
       "    }\n",
       "\n",
       "    .dataframe tbody tr th {\n",
       "        vertical-align: top;\n",
       "    }\n",
       "\n",
       "    .dataframe thead th {\n",
       "        text-align: right;\n",
       "    }\n",
       "</style>\n",
       "<table border=\"1\" class=\"dataframe\">\n",
       "  <thead>\n",
       "    <tr style=\"text-align: right;\">\n",
       "      <th></th>\n",
       "      <th>company_permalink</th>\n",
       "      <th>company_name</th>\n",
       "      <th>company_category_code</th>\n",
       "      <th>company_country_code</th>\n",
       "      <th>company_state_code</th>\n",
       "      <th>company_region</th>\n",
       "      <th>company_city</th>\n",
       "      <th>investor_permalink</th>\n",
       "      <th>investor_name</th>\n",
       "      <th>investor_category_code</th>\n",
       "      <th>investor_country_code</th>\n",
       "      <th>investor_state_code</th>\n",
       "      <th>investor_region</th>\n",
       "      <th>investor_city</th>\n",
       "      <th>funding_round_type</th>\n",
       "      <th>funded_at</th>\n",
       "      <th>funded_month</th>\n",
       "      <th>funded_quarter</th>\n",
       "      <th>funded_year</th>\n",
       "      <th>raised_amount_usd</th>\n",
       "    </tr>\n",
       "  </thead>\n",
       "  <tbody>\n",
       "    <tr>\n",
       "      <th>0</th>\n",
       "      <td>/company/advercar</td>\n",
       "      <td>AdverCar</td>\n",
       "      <td>advertising</td>\n",
       "      <td>USA</td>\n",
       "      <td>CA</td>\n",
       "      <td>SF Bay</td>\n",
       "      <td>San Francisco</td>\n",
       "      <td>/company/1-800-flowers-com</td>\n",
       "      <td>1-800-FLOWERS.COM</td>\n",
       "      <td>NaN</td>\n",
       "      <td>USA</td>\n",
       "      <td>NY</td>\n",
       "      <td>New York</td>\n",
       "      <td>New York</td>\n",
       "      <td>series-a</td>\n",
       "      <td>2012-10-30</td>\n",
       "      <td>2012-10</td>\n",
       "      <td>2012-Q4</td>\n",
       "      <td>2012.0</td>\n",
       "      <td>2000000.0</td>\n",
       "    </tr>\n",
       "    <tr>\n",
       "      <th>1</th>\n",
       "      <td>/company/launchgram</td>\n",
       "      <td>LaunchGram</td>\n",
       "      <td>news</td>\n",
       "      <td>USA</td>\n",
       "      <td>CA</td>\n",
       "      <td>SF Bay</td>\n",
       "      <td>Mountain View</td>\n",
       "      <td>/company/10xelerator</td>\n",
       "      <td>10Xelerator</td>\n",
       "      <td>finance</td>\n",
       "      <td>USA</td>\n",
       "      <td>OH</td>\n",
       "      <td>Columbus</td>\n",
       "      <td>Columbus</td>\n",
       "      <td>other</td>\n",
       "      <td>2012-01-23</td>\n",
       "      <td>2012-01</td>\n",
       "      <td>2012-Q1</td>\n",
       "      <td>2012.0</td>\n",
       "      <td>20000.0</td>\n",
       "    </tr>\n",
       "    <tr>\n",
       "      <th>2</th>\n",
       "      <td>/company/utap</td>\n",
       "      <td>uTaP</td>\n",
       "      <td>messaging</td>\n",
       "      <td>USA</td>\n",
       "      <td>NaN</td>\n",
       "      <td>United States - Other</td>\n",
       "      <td>NaN</td>\n",
       "      <td>/company/10xelerator</td>\n",
       "      <td>10Xelerator</td>\n",
       "      <td>finance</td>\n",
       "      <td>USA</td>\n",
       "      <td>OH</td>\n",
       "      <td>Columbus</td>\n",
       "      <td>Columbus</td>\n",
       "      <td>other</td>\n",
       "      <td>2012-01-01</td>\n",
       "      <td>2012-01</td>\n",
       "      <td>2012-Q1</td>\n",
       "      <td>2012.0</td>\n",
       "      <td>20000.0</td>\n",
       "    </tr>\n",
       "    <tr>\n",
       "      <th>3</th>\n",
       "      <td>/company/zoopshop</td>\n",
       "      <td>ZoopShop</td>\n",
       "      <td>software</td>\n",
       "      <td>USA</td>\n",
       "      <td>OH</td>\n",
       "      <td>Columbus</td>\n",
       "      <td>columbus</td>\n",
       "      <td>/company/10xelerator</td>\n",
       "      <td>10Xelerator</td>\n",
       "      <td>finance</td>\n",
       "      <td>USA</td>\n",
       "      <td>OH</td>\n",
       "      <td>Columbus</td>\n",
       "      <td>Columbus</td>\n",
       "      <td>angel</td>\n",
       "      <td>2012-02-15</td>\n",
       "      <td>2012-02</td>\n",
       "      <td>2012-Q1</td>\n",
       "      <td>2012.0</td>\n",
       "      <td>20000.0</td>\n",
       "    </tr>\n",
       "    <tr>\n",
       "      <th>4</th>\n",
       "      <td>/company/efuneral</td>\n",
       "      <td>eFuneral</td>\n",
       "      <td>web</td>\n",
       "      <td>USA</td>\n",
       "      <td>OH</td>\n",
       "      <td>Cleveland</td>\n",
       "      <td>Cleveland</td>\n",
       "      <td>/company/10xelerator</td>\n",
       "      <td>10Xelerator</td>\n",
       "      <td>finance</td>\n",
       "      <td>USA</td>\n",
       "      <td>OH</td>\n",
       "      <td>Columbus</td>\n",
       "      <td>Columbus</td>\n",
       "      <td>other</td>\n",
       "      <td>2011-09-08</td>\n",
       "      <td>2011-09</td>\n",
       "      <td>2011-Q3</td>\n",
       "      <td>2011.0</td>\n",
       "      <td>20000.0</td>\n",
       "    </tr>\n",
       "  </tbody>\n",
       "</table>\n",
       "</div>"
      ],
      "text/plain": [
       "     company_permalink company_name company_category_code  \\\n",
       "0    /company/advercar     AdverCar           advertising   \n",
       "1  /company/launchgram   LaunchGram                  news   \n",
       "2        /company/utap         uTaP             messaging   \n",
       "3    /company/zoopshop     ZoopShop              software   \n",
       "4    /company/efuneral     eFuneral                   web   \n",
       "\n",
       "  company_country_code company_state_code         company_region  \\\n",
       "0                  USA                 CA                 SF Bay   \n",
       "1                  USA                 CA                 SF Bay   \n",
       "2                  USA                NaN  United States - Other   \n",
       "3                  USA                 OH               Columbus   \n",
       "4                  USA                 OH              Cleveland   \n",
       "\n",
       "    company_city          investor_permalink      investor_name  \\\n",
       "0  San Francisco  /company/1-800-flowers-com  1-800-FLOWERS.COM   \n",
       "1  Mountain View        /company/10xelerator        10Xelerator   \n",
       "2            NaN        /company/10xelerator        10Xelerator   \n",
       "3       columbus        /company/10xelerator        10Xelerator   \n",
       "4      Cleveland        /company/10xelerator        10Xelerator   \n",
       "\n",
       "  investor_category_code investor_country_code investor_state_code  \\\n",
       "0                    NaN                   USA                  NY   \n",
       "1                finance                   USA                  OH   \n",
       "2                finance                   USA                  OH   \n",
       "3                finance                   USA                  OH   \n",
       "4                finance                   USA                  OH   \n",
       "\n",
       "  investor_region investor_city funding_round_type   funded_at funded_month  \\\n",
       "0        New York      New York           series-a  2012-10-30      2012-10   \n",
       "1        Columbus      Columbus              other  2012-01-23      2012-01   \n",
       "2        Columbus      Columbus              other  2012-01-01      2012-01   \n",
       "3        Columbus      Columbus              angel  2012-02-15      2012-02   \n",
       "4        Columbus      Columbus              other  2011-09-08      2011-09   \n",
       "\n",
       "  funded_quarter  funded_year  raised_amount_usd  \n",
       "0        2012-Q4       2012.0          2000000.0  \n",
       "1        2012-Q1       2012.0            20000.0  \n",
       "2        2012-Q1       2012.0            20000.0  \n",
       "3        2012-Q1       2012.0            20000.0  \n",
       "4        2011-Q3       2011.0            20000.0  "
      ]
     },
     "execution_count": 389,
     "metadata": {},
     "output_type": "execute_result"
    }
   ],
   "source": [
    "df = pd.read_csv('crunchbase-investments.csv', encoding='ISO-8859-1', low_memory=False)\n",
    "df.head(5)"
   ]
  },
  {
   "cell_type": "code",
   "execution_count": 390,
   "metadata": {
    "collapsed": false
   },
   "outputs": [
    {
     "data": {
      "text/plain": [
       "company_permalink             1\n",
       "company_name                  1\n",
       "company_category_code       643\n",
       "company_country_code          1\n",
       "company_state_code          492\n",
       "company_region                1\n",
       "company_city                533\n",
       "investor_permalink            2\n",
       "investor_name                 2\n",
       "investor_category_code    50427\n",
       "investor_country_code     12001\n",
       "investor_state_code       16809\n",
       "investor_region               2\n",
       "investor_city             12480\n",
       "funding_round_type            3\n",
       "funded_at                     3\n",
       "funded_month                  3\n",
       "funded_quarter                3\n",
       "funded_year                   3\n",
       "raised_amount_usd          3599\n",
       "dtype: int64"
      ]
     },
     "execution_count": 390,
     "metadata": {},
     "output_type": "execute_result"
    }
   ],
   "source": [
    "df.isnull().sum()"
   ]
  },
  {
   "cell_type": "code",
   "execution_count": 391,
   "metadata": {
    "collapsed": false
   },
   "outputs": [
    {
     "data": {
      "text/html": [
       "<div>\n",
       "<style scoped>\n",
       "    .dataframe tbody tr th:only-of-type {\n",
       "        vertical-align: middle;\n",
       "    }\n",
       "\n",
       "    .dataframe tbody tr th {\n",
       "        vertical-align: top;\n",
       "    }\n",
       "\n",
       "    .dataframe thead th {\n",
       "        text-align: right;\n",
       "    }\n",
       "</style>\n",
       "<table border=\"1\" class=\"dataframe\">\n",
       "  <thead>\n",
       "    <tr style=\"text-align: right;\">\n",
       "      <th></th>\n",
       "      <th>funded_year</th>\n",
       "      <th>raised_amount_usd</th>\n",
       "    </tr>\n",
       "  </thead>\n",
       "  <tbody>\n",
       "    <tr>\n",
       "      <th>count</th>\n",
       "      <td>52867.000000</td>\n",
       "      <td>4.927100e+04</td>\n",
       "    </tr>\n",
       "    <tr>\n",
       "      <th>mean</th>\n",
       "      <td>2009.598615</td>\n",
       "      <td>1.383638e+07</td>\n",
       "    </tr>\n",
       "    <tr>\n",
       "      <th>std</th>\n",
       "      <td>2.677429</td>\n",
       "      <td>4.893952e+07</td>\n",
       "    </tr>\n",
       "    <tr>\n",
       "      <th>min</th>\n",
       "      <td>1987.000000</td>\n",
       "      <td>1.000000e+03</td>\n",
       "    </tr>\n",
       "    <tr>\n",
       "      <th>25%</th>\n",
       "      <td>2008.000000</td>\n",
       "      <td>1.875000e+06</td>\n",
       "    </tr>\n",
       "    <tr>\n",
       "      <th>50%</th>\n",
       "      <td>2010.000000</td>\n",
       "      <td>6.500000e+06</td>\n",
       "    </tr>\n",
       "    <tr>\n",
       "      <th>75%</th>\n",
       "      <td>2012.000000</td>\n",
       "      <td>1.500000e+07</td>\n",
       "    </tr>\n",
       "    <tr>\n",
       "      <th>max</th>\n",
       "      <td>2013.000000</td>\n",
       "      <td>3.200000e+09</td>\n",
       "    </tr>\n",
       "  </tbody>\n",
       "</table>\n",
       "</div>"
      ],
      "text/plain": [
       "        funded_year  raised_amount_usd\n",
       "count  52867.000000       4.927100e+04\n",
       "mean    2009.598615       1.383638e+07\n",
       "std        2.677429       4.893952e+07\n",
       "min     1987.000000       1.000000e+03\n",
       "25%     2008.000000       1.875000e+06\n",
       "50%     2010.000000       6.500000e+06\n",
       "75%     2012.000000       1.500000e+07\n",
       "max     2013.000000       3.200000e+09"
      ]
     },
     "execution_count": 391,
     "metadata": {},
     "output_type": "execute_result"
    }
   ],
   "source": [
    "df.describe()"
   ]
  },
  {
   "cell_type": "code",
   "execution_count": 392,
   "metadata": {
    "collapsed": false
   },
   "outputs": [
    {
     "data": {
      "text/plain": [
       "(52870, 20)"
      ]
     },
     "execution_count": 392,
     "metadata": {},
     "output_type": "execute_result"
    }
   ],
   "source": [
    "df.shape"
   ]
  },
  {
   "cell_type": "markdown",
   "metadata": {},
   "source": [
    "# Unnecessary columns\n",
    "\n",
    "We can drop/exclude the columns **`funded_month`** and **`funded_year`** because they contain redundant info that is already contained in **`funded_at`**."
   ]
  },
  {
   "cell_type": "markdown",
   "metadata": {
    "collapsed": true
   },
   "source": [
    "# Missing value counts"
   ]
  },
  {
   "cell_type": "code",
   "execution_count": 393,
   "metadata": {
    "collapsed": false
   },
   "outputs": [
    {
     "name": "stdout",
     "output_type": "stream",
     "text": [
      "company_permalink            0\n",
      "company_name                 0\n",
      "company_category_code       52\n",
      "company_country_code         0\n",
      "company_state_code          53\n",
      "company_region               0\n",
      "company_city                64\n",
      "investor_permalink           0\n",
      "investor_name                0\n",
      "investor_category_code    2557\n",
      "investor_country_code      778\n",
      "investor_state_code       1371\n",
      "investor_region              0\n",
      "investor_city              900\n",
      "funding_round_type           0\n",
      "funded_at                    0\n",
      "funded_quarter               0\n",
      "raised_amount_usd          653\n",
      "dtype: int64\n",
      "==================================================\n",
      "company_permalink            0\n",
      "company_name                 0\n",
      "company_category_code       51\n",
      "company_country_code         0\n",
      "company_state_code          43\n",
      "company_region               0\n",
      "company_city                45\n",
      "investor_permalink           0\n",
      "investor_name                0\n",
      "investor_category_code    5000\n",
      "investor_country_code      261\n",
      "investor_state_code        714\n",
      "investor_region              0\n",
      "investor_city              313\n",
      "funding_round_type           0\n",
      "funded_at                    0\n",
      "funded_quarter               0\n",
      "raised_amount_usd          239\n",
      "dtype: int64\n",
      "==================================================\n",
      "company_permalink            0\n",
      "company_name                 0\n",
      "company_category_code       82\n",
      "company_country_code         0\n",
      "company_state_code          56\n",
      "company_region               0\n",
      "company_city                44\n",
      "investor_permalink           0\n",
      "investor_name                0\n",
      "investor_category_code    5000\n",
      "investor_country_code      271\n",
      "investor_state_code        808\n",
      "investor_region              0\n",
      "investor_city              314\n",
      "funding_round_type           0\n",
      "funded_at                    0\n",
      "funded_quarter               0\n",
      "raised_amount_usd          221\n",
      "dtype: int64\n",
      "==================================================\n",
      "company_permalink            0\n",
      "company_name                 0\n",
      "company_category_code       57\n",
      "company_country_code         0\n",
      "company_state_code          36\n",
      "company_region               0\n",
      "company_city                44\n",
      "investor_permalink           0\n",
      "investor_name                0\n",
      "investor_category_code    5000\n",
      "investor_country_code      239\n",
      "investor_state_code        714\n",
      "investor_region              0\n",
      "investor_city              274\n",
      "funding_round_type           0\n",
      "funded_at                    0\n",
      "funded_quarter               0\n",
      "raised_amount_usd          299\n",
      "dtype: int64\n",
      "==================================================\n",
      "company_permalink            0\n",
      "company_name                 0\n",
      "company_category_code       69\n",
      "company_country_code         0\n",
      "company_state_code          40\n",
      "company_region               0\n",
      "company_city                41\n",
      "investor_permalink           0\n",
      "investor_name                0\n",
      "investor_category_code    5000\n",
      "investor_country_code      352\n",
      "investor_state_code       1116\n",
      "investor_region              0\n",
      "investor_city              434\n",
      "funding_round_type           0\n",
      "funded_at                    0\n",
      "funded_quarter               0\n",
      "raised_amount_usd          243\n",
      "dtype: int64\n",
      "==================================================\n",
      "company_permalink            0\n",
      "company_name                 0\n",
      "company_category_code       61\n",
      "company_country_code         0\n",
      "company_state_code          39\n",
      "company_region               0\n",
      "company_city                33\n",
      "investor_permalink           0\n",
      "investor_name                0\n",
      "investor_category_code    5000\n",
      "investor_country_code      218\n",
      "investor_state_code        732\n",
      "investor_region              0\n",
      "investor_city              238\n",
      "funding_round_type           0\n",
      "funded_at                    0\n",
      "funded_quarter               0\n",
      "raised_amount_usd          206\n",
      "dtype: int64\n",
      "==================================================\n",
      "company_permalink            1\n",
      "company_name                 1\n",
      "company_category_code       88\n",
      "company_country_code         1\n",
      "company_state_code          35\n",
      "company_region               1\n",
      "company_city                42\n",
      "investor_permalink           2\n",
      "investor_name                2\n",
      "investor_category_code    5000\n",
      "investor_country_code      313\n",
      "investor_state_code        922\n",
      "investor_region              2\n",
      "investor_city              339\n",
      "funding_round_type           3\n",
      "funded_at                    3\n",
      "funded_quarter               3\n",
      "raised_amount_usd          287\n",
      "dtype: int64\n",
      "==================================================\n",
      "company_permalink            0\n",
      "company_name                 0\n",
      "company_category_code       83\n",
      "company_country_code         0\n",
      "company_state_code          65\n",
      "company_region               0\n",
      "company_city                55\n",
      "investor_permalink           0\n",
      "investor_name                0\n",
      "investor_category_code    5000\n",
      "investor_country_code      267\n",
      "investor_state_code        775\n",
      "investor_region              0\n",
      "investor_city              334\n",
      "funding_round_type           0\n",
      "funded_at                    0\n",
      "funded_quarter               0\n",
      "raised_amount_usd          368\n",
      "dtype: int64\n",
      "==================================================\n",
      "company_permalink            0\n",
      "company_name                 0\n",
      "company_category_code       75\n",
      "company_country_code         0\n",
      "company_state_code          50\n",
      "company_region               0\n",
      "company_city                50\n",
      "investor_permalink           0\n",
      "investor_name                0\n",
      "investor_category_code    5000\n",
      "investor_country_code     1432\n",
      "investor_state_code       1787\n",
      "investor_region              0\n",
      "investor_city             1464\n",
      "funding_round_type           0\n",
      "funded_at                    0\n",
      "funded_quarter               0\n",
      "raised_amount_usd          324\n",
      "dtype: int64\n",
      "==================================================\n",
      "company_permalink            0\n",
      "company_name                 0\n",
      "company_category_code       15\n",
      "company_country_code         0\n",
      "company_state_code          46\n",
      "company_region               0\n",
      "company_city                70\n",
      "investor_permalink           0\n",
      "investor_name                0\n",
      "investor_category_code    5000\n",
      "investor_country_code     5000\n",
      "investor_state_code       5000\n",
      "investor_region              0\n",
      "investor_city             5000\n",
      "funding_round_type           0\n",
      "funded_at                    0\n",
      "funded_quarter               0\n",
      "raised_amount_usd          469\n",
      "dtype: int64\n",
      "==================================================\n",
      "company_permalink            0\n",
      "company_name                 0\n",
      "company_category_code       10\n",
      "company_country_code         0\n",
      "company_state_code          29\n",
      "company_region               0\n",
      "company_city                45\n",
      "investor_permalink           0\n",
      "investor_name                0\n",
      "investor_category_code    2870\n",
      "investor_country_code     2870\n",
      "investor_state_code       2870\n",
      "investor_region              0\n",
      "investor_city             2870\n",
      "funding_round_type           0\n",
      "funded_at                    0\n",
      "funded_quarter               0\n",
      "raised_amount_usd          290\n",
      "dtype: int64\n",
      "==================================================\n"
     ]
    }
   ],
   "source": [
    "use_cols = ['investor_region', 'investor_permalink', 'investor_name',\n",
    "        'investor_country_code', 'investor_city', 'investor_category_code', \n",
    "        'funding_round_type', 'company_category_code', 'funded_at', \n",
    "        'company_state_code', 'company_region', 'company_permalink', \n",
    "        'company_name', 'company_country_code', 'company_city', \n",
    "        'investor_state_code', 'funded_quarter', 'raised_amount_usd']\n",
    "\n",
    "chunk_iter = pd.read_csv('crunchbase-investments.csv', chunksize=5000, encoding='ISO-8859-1', usecols=use_cols)\n",
    "\n",
    "for chunk in chunk_iter:    \n",
    "    missing_value_counts = chunk.isnull().sum()\n",
    "    print(missing_value_counts)\n",
    "    \n",
    "    print('='*50)"
   ]
  },
  {
   "cell_type": "markdown",
   "metadata": {},
   "source": [
    "# Memory footprint"
   ]
  },
  {
   "cell_type": "code",
   "execution_count": 394,
   "metadata": {
    "collapsed": false
   },
   "outputs": [
    {
     "name": "stdout",
     "output_type": "stream",
     "text": [
      "Chunk memory usage (MB) = 5.235795974731445\n",
      "Chunk memory usage (MB) = 5.184783935546875\n",
      "Chunk memory usage (MB) = 5.191601753234863\n",
      "Chunk memory usage (MB) = 5.184760093688965\n",
      "Chunk memory usage (MB) = 5.180904388427734\n",
      "Chunk memory usage (MB) = 5.210009574890137\n",
      "Chunk memory usage (MB) = 5.188079833984375\n",
      "Chunk memory usage (MB) = 5.166210174560547\n",
      "Chunk memory usage (MB) = 5.052687644958496\n",
      "Chunk memory usage (MB) = 4.296049118041992\n",
      "Chunk memory usage (MB) = 2.4665212631225586\n",
      "--------------------------------------------------\n",
      "Total memory usage across all chunks (MB) = 53.35740375518799\n"
     ]
    }
   ],
   "source": [
    "use_cols = ['investor_region', 'investor_permalink', 'investor_name',\n",
    "        'investor_country_code', 'investor_city', 'investor_category_code', \n",
    "        'funding_round_type', 'company_category_code', 'funded_at', \n",
    "        'company_state_code', 'company_region', 'company_permalink', \n",
    "        'company_name', 'company_country_code', 'company_city', \n",
    "        'investor_state_code', 'funded_quarter', 'raised_amount_usd']\n",
    "\n",
    "total_memory = 0\n",
    "chunk_iter = pd.read_csv('crunchbase-investments.csv', chunksize=5000, encoding='ISO-8859-1', usecols=use_cols)\n",
    "for chunk in chunk_iter:    \n",
    "    chunk_memory = chunk.memory_usage(deep=True, index=False).sum()\n",
    "    total_memory += chunk_memory    \n",
    "    print('Chunk memory usage (MB) =', chunk_memory/(1024*1024))\n",
    "\n",
    "print('-'*50)\n",
    "print('Total memory usage across all chunks (MB) =', total_memory/(1024*1024))"
   ]
  },
  {
   "cell_type": "markdown",
   "metadata": {},
   "source": [
    "# Column types (by reading entire file at once)"
   ]
  },
  {
   "cell_type": "code",
   "execution_count": 395,
   "metadata": {
    "collapsed": false
   },
   "outputs": [
    {
     "data": {
      "text/plain": [
       "company_permalink          object\n",
       "company_name               object\n",
       "company_category_code      object\n",
       "company_country_code       object\n",
       "company_state_code         object\n",
       "company_region             object\n",
       "company_city               object\n",
       "investor_permalink         object\n",
       "investor_name              object\n",
       "investor_category_code     object\n",
       "investor_country_code      object\n",
       "investor_state_code        object\n",
       "investor_region            object\n",
       "investor_city              object\n",
       "funding_round_type         object\n",
       "funded_at                  object\n",
       "funded_quarter             object\n",
       "raised_amount_usd         float64\n",
       "dtype: object"
      ]
     },
     "execution_count": 395,
     "metadata": {},
     "output_type": "execute_result"
    }
   ],
   "source": [
    "use_cols = ['investor_region', 'investor_permalink', 'investor_name',\n",
    "        'investor_country_code', 'investor_city', 'investor_category_code', \n",
    "        'funding_round_type', 'company_category_code', 'funded_at', \n",
    "        'company_state_code', 'company_region', 'company_permalink', \n",
    "        'company_name', 'company_country_code', 'company_city', \n",
    "        'investor_state_code', 'funded_quarter', 'raised_amount_usd']\n",
    "\n",
    "df = pd.read_csv('crunchbase-investments.csv', encoding='ISO-8859-1', low_memory=False, usecols=use_cols)\n",
    "df.dtypes"
   ]
  },
  {
   "cell_type": "markdown",
   "metadata": {},
   "source": [
    "# Column types (by reading file in chunks)"
   ]
  },
  {
   "cell_type": "code",
   "execution_count": 396,
   "metadata": {
    "collapsed": false
   },
   "outputs": [
    {
     "name": "stdout",
     "output_type": "stream",
     "text": [
      "Numeric columns: ( n = 1 )\n",
      "\n",
      "raised_amount_usd    float64\n",
      "dtype: object\n",
      "\n",
      "String columns: ( n = 17 )\n",
      "\n",
      "investor_region           object\n",
      "investor_permalink        object\n",
      "investor_name             object\n",
      "investor_country_code     object\n",
      "investor_city             object\n",
      "investor_category_code    object\n",
      "funding_round_type        object\n",
      "company_category_code     object\n",
      "funded_at                 object\n",
      "company_state_code        object\n",
      "company_region            object\n",
      "company_permalink         object\n",
      "company_name              object\n",
      "company_country_code      object\n",
      "company_city              object\n",
      "investor_state_code       object\n",
      "funded_quarter            object\n",
      "dtype: object\n"
     ]
    }
   ],
   "source": [
    "# A column's datatype may not be consistent across all chunks.\n",
    "# To get a column's datatype, we gather its datatype in each chunk, \n",
    "# then call max() to get its type with the highest precedence.\n",
    "# Example: 'investor_category_code' is listed as an object type \n",
    "# in one chunk and as a float in another chunk because all the\n",
    "# values in that chunk are NaN. Between object and float, the \n",
    "# object type has a higher precedence, so that's the datatype\n",
    "# returned.\n",
    "\n",
    "use_cols = ['investor_region', 'investor_permalink', 'investor_name',\n",
    "        'investor_country_code', 'investor_city', 'investor_category_code', \n",
    "        'funding_round_type', 'company_category_code', 'funded_at', \n",
    "        'company_state_code', 'company_region', 'company_permalink', \n",
    "        'company_name', 'company_country_code', 'company_city', \n",
    "        'investor_state_code', 'funded_quarter', 'raised_amount_usd']\n",
    "\n",
    "chunk_iter = pd.read_csv('crunchbase-investments.csv', chunksize=5000, encoding='ISO-8859-1', usecols=use_cols)\n",
    "datatypes = pd.Series()\n",
    "for chunk in chunk_iter:\n",
    "    d_types = chunk.dtypes\n",
    "    datatypes = datatypes.append(d_types)\n",
    "    \n",
    "colnames = datatypes.index\n",
    "datatypes = datatypes.groupby(by=colnames).max().sort_values()\n",
    "numeric_cols = datatypes[datatypes != 'object']\n",
    "string_cols = datatypes[datatypes == 'object']\n",
    "\n",
    "print('Numeric columns: ( n =', numeric_cols.size, ')\\n')\n",
    "print(numeric_cols)\n",
    "print('\\nString columns: ( n =', string_cols.size, ')\\n')\n",
    "print(string_cols)"
   ]
  },
  {
   "cell_type": "markdown",
   "metadata": {},
   "source": [
    "# Optimize numeric columns"
   ]
  },
  {
   "cell_type": "code",
   "execution_count": 397,
   "metadata": {
    "collapsed": false,
    "scrolled": true
   },
   "outputs": [
    {
     "name": "stdout",
     "output_type": "stream",
     "text": [
      "0    2000000.0\n",
      "1      20000.0\n",
      "Name: raised_amount_usd, dtype: float64\n",
      "--------------------------------------------------\n",
      "5000    25000000.0\n",
      "5001    20000000.0\n",
      "Name: raised_amount_usd, dtype: float64\n",
      "--------------------------------------------------\n",
      "10000    37400000.0\n",
      "10001     6000000.0\n",
      "Name: raised_amount_usd, dtype: float64\n",
      "--------------------------------------------------\n",
      "15000    3000000.0\n",
      "15001    5000000.0\n",
      "Name: raised_amount_usd, dtype: float64\n",
      "--------------------------------------------------\n",
      "20000    15000000.0\n",
      "20001    14900000.0\n",
      "Name: raised_amount_usd, dtype: float64\n",
      "--------------------------------------------------\n",
      "25000    29000000.0\n",
      "25001     2000000.0\n",
      "Name: raised_amount_usd, dtype: float64\n",
      "--------------------------------------------------\n",
      "30000     500000.0\n",
      "30001    3000000.0\n",
      "Name: raised_amount_usd, dtype: float64\n",
      "--------------------------------------------------\n",
      "35000    13000000.0\n",
      "35001    12000000.0\n",
      "Name: raised_amount_usd, dtype: float64\n",
      "--------------------------------------------------\n",
      "40000    3500000.0\n",
      "40001    9000000.0\n",
      "Name: raised_amount_usd, dtype: float64\n",
      "--------------------------------------------------\n",
      "45000    1000000.0\n",
      "45001    1600000.0\n",
      "Name: raised_amount_usd, dtype: float64\n",
      "--------------------------------------------------\n",
      "50000     3060000.0\n",
      "50001    12000000.0\n",
      "Name: raised_amount_usd, dtype: float64\n",
      "--------------------------------------------------\n"
     ]
    }
   ],
   "source": [
    "use_cols = ['investor_region', 'investor_permalink', 'investor_name',\n",
    "        'investor_country_code', 'investor_city', 'investor_category_code', \n",
    "        'funding_round_type', 'company_category_code', 'funded_at', \n",
    "        'company_state_code', 'company_region', 'company_permalink', \n",
    "        'company_name', 'company_country_code', 'company_city', \n",
    "        'investor_state_code', 'funded_quarter', 'raised_amount_usd']\n",
    "\n",
    "chunk_iter = pd.read_csv('crunchbase-investments.csv', chunksize=5000, encoding='ISO-8859-1', usecols=use_cols)\n",
    "for chunk in chunk_iter:\n",
    "    print(chunk['raised_amount_usd'].head(2)) \n",
    "    print('-'*50)"
   ]
  },
  {
   "cell_type": "markdown",
   "metadata": {},
   "source": [
    "From the results above, we can see that we should cast **`raised_amount_usd`** to an `int64`. The float type is overkill for this column.\n",
    "\n",
    "Let's make that change."
   ]
  },
  {
   "cell_type": "code",
   "execution_count": 398,
   "metadata": {
    "collapsed": false,
    "scrolled": true
   },
   "outputs": [
    {
     "name": "stdout",
     "output_type": "stream",
     "text": [
      "dtype before optimization: float64\n",
      "dtype after optimization: int64\n",
      "--------------------------------------------------\n",
      "dtype before optimization: float64\n",
      "dtype after optimization: int64\n",
      "--------------------------------------------------\n",
      "dtype before optimization: float64\n",
      "dtype after optimization: int64\n",
      "--------------------------------------------------\n",
      "dtype before optimization: float64\n",
      "dtype after optimization: int64\n",
      "--------------------------------------------------\n",
      "dtype before optimization: float64\n",
      "dtype after optimization: int64\n",
      "--------------------------------------------------\n",
      "dtype before optimization: float64\n",
      "dtype after optimization: int64\n",
      "--------------------------------------------------\n",
      "dtype before optimization: float64\n",
      "dtype after optimization: int64\n",
      "--------------------------------------------------\n",
      "dtype before optimization: float64\n",
      "dtype after optimization: int64\n",
      "--------------------------------------------------\n",
      "dtype before optimization: float64\n",
      "dtype after optimization: int64\n",
      "--------------------------------------------------\n",
      "dtype before optimization: float64\n",
      "dtype after optimization: int64\n",
      "--------------------------------------------------\n",
      "dtype before optimization: float64\n",
      "dtype after optimization: int64\n",
      "--------------------------------------------------\n"
     ]
    }
   ],
   "source": [
    "use_cols = ['investor_region', 'investor_permalink', 'investor_name',\n",
    "        'investor_country_code', 'investor_city', 'investor_category_code', \n",
    "        'funding_round_type', 'company_category_code', 'funded_at', \n",
    "        'company_state_code', 'company_region', 'company_permalink', \n",
    "        'company_name', 'company_country_code', 'company_city', \n",
    "        'investor_state_code', 'funded_quarter', 'raised_amount_usd']\n",
    "\n",
    "chunk_iter = pd.read_csv('crunchbase-investments.csv', chunksize=5000, encoding='ISO-8859-1', usecols=use_cols)\n",
    "for chunk in chunk_iter:\n",
    "    print('dtype before optimization:', chunk['raised_amount_usd'].dtype)\n",
    "    chunk['raised_amount_usd'] = chunk['raised_amount_usd'].fillna(0).astype('int')\n",
    "    print('dtype after optimization:', chunk['raised_amount_usd'].dtype)\n",
    "    print('-'*50)"
   ]
  },
  {
   "cell_type": "markdown",
   "metadata": {},
   "source": [
    "# Optimize string columns\n",
    "\n",
    "By looking at the string column **`funded_quarter`**, we can see that we could optimize it by extracting the number representing the quarter and then cast the column to an `int8` type.\n",
    "\n",
    "- Example: Extract the `4` from `2012-Q4`\t "
   ]
  },
  {
   "cell_type": "code",
   "execution_count": 399,
   "metadata": {
    "collapsed": false,
    "scrolled": true
   },
   "outputs": [
    {
     "name": "stdout",
     "output_type": "stream",
     "text": [
      "Chunk memory usage (MB) = 4.935464859008789\n",
      "Chunk memory usage (MB) = 4.884456634521484\n",
      "Chunk memory usage (MB) = 4.891274452209473\n",
      "Chunk memory usage (MB) = 4.884432792663574\n",
      "Chunk memory usage (MB) = 4.880577087402344\n",
      "Chunk memory usage (MB) = 4.909682273864746\n",
      "Chunk memory usage (MB) = 4.887844085693359\n",
      "Chunk memory usage (MB) = 4.865882873535156\n",
      "Chunk memory usage (MB) = 4.7523603439331055\n",
      "Chunk memory usage (MB) = 3.9957218170166016\n",
      "Chunk memory usage (MB) = 2.2941675186157227\n",
      "--------------------------------------------------\n",
      "Total memory usage (MB) = 50.181864738464355\n"
     ]
    }
   ],
   "source": [
    "use_cols = ['investor_region', 'investor_permalink', 'investor_name',\n",
    "        'investor_country_code', 'investor_city', 'investor_category_code', \n",
    "        'funding_round_type', 'company_category_code', 'funded_at', \n",
    "        'company_state_code', 'company_region', 'company_permalink', \n",
    "        'company_name', 'company_country_code', 'company_city', \n",
    "        'investor_state_code', 'funded_quarter', 'raised_amount_usd']\n",
    "\n",
    "total_memory = 0\n",
    "chunk_iter = pd.read_csv('crunchbase-investments.csv', chunksize=5000, encoding='ISO-8859-1', usecols=use_cols)\n",
    "for chunk in chunk_iter:\n",
    "    # Optimize numeric column\n",
    "    chunk['raised_amount_usd'] = chunk['raised_amount_usd'].fillna(0).astype('int')\n",
    "\n",
    "    # Optimize 'funded_quarter' column\n",
    "    chunk['funded_quarter'] = chunk['funded_quarter'].str.extract(r'Q(\\d)', expand=False)\n",
    "    chunk['funded_quarter'] = chunk['funded_quarter'].fillna(-1)\n",
    "    chunk['funded_quarter'] = chunk['funded_quarter'].astype('int8')\n",
    "\n",
    "    chunk_memory = chunk.memory_usage(deep=True).sum()\n",
    "    total_memory += chunk_memory\n",
    "    print('Chunk memory usage (MB) =', chunk_memory/(1024*1024))\n",
    "\n",
    "print('-'*50)\n",
    "print('Total memory usage (MB) =', total_memory/(1024*1024))"
   ]
  },
  {
   "cell_type": "markdown",
   "metadata": {
    "collapsed": true
   },
   "source": [
    "From the results above, we can see that we were able to lower the total memory usage from 53.35 MB to 49.98 MB by optimizing some of the columns."
   ]
  },
  {
   "cell_type": "markdown",
   "metadata": {
    "collapsed": true
   },
   "source": [
    "# Load data into SQLite"
   ]
  },
  {
   "cell_type": "code",
   "execution_count": 400,
   "metadata": {
    "collapsed": true
   },
   "outputs": [],
   "source": [
    "import sqlite3"
   ]
  },
  {
   "cell_type": "code",
   "execution_count": 401,
   "metadata": {
    "collapsed": true,
    "scrolled": true
   },
   "outputs": [],
   "source": [
    "# Create and connect to a new database\n",
    "conn = sqlite3.connect('crunchbase.db')\n",
    "cur = conn.cursor()\n",
    "cur.execute('''DROP TABLE IF EXISTS investments''')\n",
    "\n",
    "use_cols = ['investor_region', 'investor_permalink', 'investor_name',\n",
    "        'investor_country_code', 'investor_city', 'investor_category_code', \n",
    "        'funding_round_type', 'company_category_code', 'funded_at', \n",
    "        'company_state_code', 'company_region', 'company_permalink', \n",
    "        'company_name', 'company_country_code', 'company_city', \n",
    "        'investor_state_code', 'funded_quarter', 'raised_amount_usd']\n",
    "\n",
    "total_memory = 0\n",
    "chunk_iter = pd.read_csv('crunchbase-investments.csv', chunksize=5000, encoding='ISO-8859-1', usecols=use_cols)\n",
    "for chunk in chunk_iter:\n",
    "    # Optimize numeric column\n",
    "    chunk['raised_amount_usd'] = chunk['raised_amount_usd'].fillna(0).astype('int')\n",
    "    \n",
    "    # Optimize 'funded_quarter' column\n",
    "    chunk['funded_quarter'] = chunk['funded_quarter'].str.extract(r'Q(\\d)', expand=False)\n",
    "    chunk['funded_quarter'] = chunk['funded_quarter'].fillna(-1)\n",
    "    chunk['funded_quarter'] = chunk['funded_quarter'].astype('int8')\n",
    "\n",
    "    # Write chunk out to database table\n",
    "    chunk.to_sql('investments', conn, if_exists='append', index=False)"
   ]
  },
  {
   "cell_type": "markdown",
   "metadata": {},
   "source": [
    "# Data load verification\n",
    "\n",
    "Let's now confirm that the data is in the database table."
   ]
  },
  {
   "cell_type": "code",
   "execution_count": 402,
   "metadata": {
    "collapsed": false
   },
   "outputs": [
    {
     "data": {
      "text/html": [
       "<div>\n",
       "<style scoped>\n",
       "    .dataframe tbody tr th:only-of-type {\n",
       "        vertical-align: middle;\n",
       "    }\n",
       "\n",
       "    .dataframe tbody tr th {\n",
       "        vertical-align: top;\n",
       "    }\n",
       "\n",
       "    .dataframe thead th {\n",
       "        text-align: right;\n",
       "    }\n",
       "</style>\n",
       "<table border=\"1\" class=\"dataframe\">\n",
       "  <thead>\n",
       "    <tr style=\"text-align: right;\">\n",
       "      <th></th>\n",
       "      <th>cid</th>\n",
       "      <th>name</th>\n",
       "      <th>type</th>\n",
       "      <th>notnull</th>\n",
       "      <th>dflt_value</th>\n",
       "      <th>pk</th>\n",
       "    </tr>\n",
       "  </thead>\n",
       "  <tbody>\n",
       "    <tr>\n",
       "      <th>0</th>\n",
       "      <td>0</td>\n",
       "      <td>company_permalink</td>\n",
       "      <td>TEXT</td>\n",
       "      <td>0</td>\n",
       "      <td>None</td>\n",
       "      <td>0</td>\n",
       "    </tr>\n",
       "    <tr>\n",
       "      <th>1</th>\n",
       "      <td>1</td>\n",
       "      <td>company_name</td>\n",
       "      <td>TEXT</td>\n",
       "      <td>0</td>\n",
       "      <td>None</td>\n",
       "      <td>0</td>\n",
       "    </tr>\n",
       "    <tr>\n",
       "      <th>2</th>\n",
       "      <td>2</td>\n",
       "      <td>company_category_code</td>\n",
       "      <td>TEXT</td>\n",
       "      <td>0</td>\n",
       "      <td>None</td>\n",
       "      <td>0</td>\n",
       "    </tr>\n",
       "    <tr>\n",
       "      <th>3</th>\n",
       "      <td>3</td>\n",
       "      <td>company_country_code</td>\n",
       "      <td>TEXT</td>\n",
       "      <td>0</td>\n",
       "      <td>None</td>\n",
       "      <td>0</td>\n",
       "    </tr>\n",
       "    <tr>\n",
       "      <th>4</th>\n",
       "      <td>4</td>\n",
       "      <td>company_state_code</td>\n",
       "      <td>TEXT</td>\n",
       "      <td>0</td>\n",
       "      <td>None</td>\n",
       "      <td>0</td>\n",
       "    </tr>\n",
       "    <tr>\n",
       "      <th>5</th>\n",
       "      <td>5</td>\n",
       "      <td>company_region</td>\n",
       "      <td>TEXT</td>\n",
       "      <td>0</td>\n",
       "      <td>None</td>\n",
       "      <td>0</td>\n",
       "    </tr>\n",
       "    <tr>\n",
       "      <th>6</th>\n",
       "      <td>6</td>\n",
       "      <td>company_city</td>\n",
       "      <td>TEXT</td>\n",
       "      <td>0</td>\n",
       "      <td>None</td>\n",
       "      <td>0</td>\n",
       "    </tr>\n",
       "    <tr>\n",
       "      <th>7</th>\n",
       "      <td>7</td>\n",
       "      <td>investor_permalink</td>\n",
       "      <td>TEXT</td>\n",
       "      <td>0</td>\n",
       "      <td>None</td>\n",
       "      <td>0</td>\n",
       "    </tr>\n",
       "    <tr>\n",
       "      <th>8</th>\n",
       "      <td>8</td>\n",
       "      <td>investor_name</td>\n",
       "      <td>TEXT</td>\n",
       "      <td>0</td>\n",
       "      <td>None</td>\n",
       "      <td>0</td>\n",
       "    </tr>\n",
       "    <tr>\n",
       "      <th>9</th>\n",
       "      <td>9</td>\n",
       "      <td>investor_category_code</td>\n",
       "      <td>TEXT</td>\n",
       "      <td>0</td>\n",
       "      <td>None</td>\n",
       "      <td>0</td>\n",
       "    </tr>\n",
       "    <tr>\n",
       "      <th>10</th>\n",
       "      <td>10</td>\n",
       "      <td>investor_country_code</td>\n",
       "      <td>TEXT</td>\n",
       "      <td>0</td>\n",
       "      <td>None</td>\n",
       "      <td>0</td>\n",
       "    </tr>\n",
       "    <tr>\n",
       "      <th>11</th>\n",
       "      <td>11</td>\n",
       "      <td>investor_state_code</td>\n",
       "      <td>TEXT</td>\n",
       "      <td>0</td>\n",
       "      <td>None</td>\n",
       "      <td>0</td>\n",
       "    </tr>\n",
       "    <tr>\n",
       "      <th>12</th>\n",
       "      <td>12</td>\n",
       "      <td>investor_region</td>\n",
       "      <td>TEXT</td>\n",
       "      <td>0</td>\n",
       "      <td>None</td>\n",
       "      <td>0</td>\n",
       "    </tr>\n",
       "    <tr>\n",
       "      <th>13</th>\n",
       "      <td>13</td>\n",
       "      <td>investor_city</td>\n",
       "      <td>TEXT</td>\n",
       "      <td>0</td>\n",
       "      <td>None</td>\n",
       "      <td>0</td>\n",
       "    </tr>\n",
       "    <tr>\n",
       "      <th>14</th>\n",
       "      <td>14</td>\n",
       "      <td>funding_round_type</td>\n",
       "      <td>TEXT</td>\n",
       "      <td>0</td>\n",
       "      <td>None</td>\n",
       "      <td>0</td>\n",
       "    </tr>\n",
       "    <tr>\n",
       "      <th>15</th>\n",
       "      <td>15</td>\n",
       "      <td>funded_at</td>\n",
       "      <td>TEXT</td>\n",
       "      <td>0</td>\n",
       "      <td>None</td>\n",
       "      <td>0</td>\n",
       "    </tr>\n",
       "    <tr>\n",
       "      <th>16</th>\n",
       "      <td>16</td>\n",
       "      <td>funded_quarter</td>\n",
       "      <td>INTEGER</td>\n",
       "      <td>0</td>\n",
       "      <td>None</td>\n",
       "      <td>0</td>\n",
       "    </tr>\n",
       "    <tr>\n",
       "      <th>17</th>\n",
       "      <td>17</td>\n",
       "      <td>raised_amount_usd</td>\n",
       "      <td>INTEGER</td>\n",
       "      <td>0</td>\n",
       "      <td>None</td>\n",
       "      <td>0</td>\n",
       "    </tr>\n",
       "  </tbody>\n",
       "</table>\n",
       "</div>"
      ],
      "text/plain": [
       "    cid                    name     type  notnull dflt_value  pk\n",
       "0     0       company_permalink     TEXT        0       None   0\n",
       "1     1            company_name     TEXT        0       None   0\n",
       "2     2   company_category_code     TEXT        0       None   0\n",
       "3     3    company_country_code     TEXT        0       None   0\n",
       "4     4      company_state_code     TEXT        0       None   0\n",
       "5     5          company_region     TEXT        0       None   0\n",
       "6     6            company_city     TEXT        0       None   0\n",
       "7     7      investor_permalink     TEXT        0       None   0\n",
       "8     8           investor_name     TEXT        0       None   0\n",
       "9     9  investor_category_code     TEXT        0       None   0\n",
       "10   10   investor_country_code     TEXT        0       None   0\n",
       "11   11     investor_state_code     TEXT        0       None   0\n",
       "12   12         investor_region     TEXT        0       None   0\n",
       "13   13           investor_city     TEXT        0       None   0\n",
       "14   14      funding_round_type     TEXT        0       None   0\n",
       "15   15               funded_at     TEXT        0       None   0\n",
       "16   16          funded_quarter  INTEGER        0       None   0\n",
       "17   17       raised_amount_usd  INTEGER        0       None   0"
      ]
     },
     "execution_count": 402,
     "metadata": {},
     "output_type": "execute_result"
    }
   ],
   "source": [
    "verify_df = pd.read_sql('PRAGMA table_info(investments)', conn)\n",
    "verify_df"
   ]
  },
  {
   "cell_type": "code",
   "execution_count": 403,
   "metadata": {
    "collapsed": false
   },
   "outputs": [
    {
     "data": {
      "text/html": [
       "<div>\n",
       "<style scoped>\n",
       "    .dataframe tbody tr th:only-of-type {\n",
       "        vertical-align: middle;\n",
       "    }\n",
       "\n",
       "    .dataframe tbody tr th {\n",
       "        vertical-align: top;\n",
       "    }\n",
       "\n",
       "    .dataframe thead th {\n",
       "        text-align: right;\n",
       "    }\n",
       "</style>\n",
       "<table border=\"1\" class=\"dataframe\">\n",
       "  <thead>\n",
       "    <tr style=\"text-align: right;\">\n",
       "      <th></th>\n",
       "      <th>COUNT(*)</th>\n",
       "    </tr>\n",
       "  </thead>\n",
       "  <tbody>\n",
       "    <tr>\n",
       "      <th>0</th>\n",
       "      <td>52870</td>\n",
       "    </tr>\n",
       "  </tbody>\n",
       "</table>\n",
       "</div>"
      ],
      "text/plain": [
       "   COUNT(*)\n",
       "0     52870"
      ]
     },
     "execution_count": 403,
     "metadata": {},
     "output_type": "execute_result"
    }
   ],
   "source": [
    "verify_df = pd.read_sql('SELECT COUNT(*) FROM investments', conn)\n",
    "verify_df"
   ]
  },
  {
   "cell_type": "code",
   "execution_count": 404,
   "metadata": {
    "collapsed": false
   },
   "outputs": [
    {
     "data": {
      "text/html": [
       "<div>\n",
       "<style scoped>\n",
       "    .dataframe tbody tr th:only-of-type {\n",
       "        vertical-align: middle;\n",
       "    }\n",
       "\n",
       "    .dataframe tbody tr th {\n",
       "        vertical-align: top;\n",
       "    }\n",
       "\n",
       "    .dataframe thead th {\n",
       "        text-align: right;\n",
       "    }\n",
       "</style>\n",
       "<table border=\"1\" class=\"dataframe\">\n",
       "  <thead>\n",
       "    <tr style=\"text-align: right;\">\n",
       "      <th></th>\n",
       "      <th>company_permalink</th>\n",
       "      <th>company_name</th>\n",
       "      <th>company_category_code</th>\n",
       "      <th>company_country_code</th>\n",
       "      <th>company_state_code</th>\n",
       "      <th>company_region</th>\n",
       "      <th>company_city</th>\n",
       "      <th>investor_permalink</th>\n",
       "      <th>investor_name</th>\n",
       "      <th>investor_category_code</th>\n",
       "      <th>investor_country_code</th>\n",
       "      <th>investor_state_code</th>\n",
       "      <th>investor_region</th>\n",
       "      <th>investor_city</th>\n",
       "      <th>funding_round_type</th>\n",
       "      <th>funded_at</th>\n",
       "      <th>funded_quarter</th>\n",
       "      <th>raised_amount_usd</th>\n",
       "    </tr>\n",
       "  </thead>\n",
       "  <tbody>\n",
       "    <tr>\n",
       "      <th>0</th>\n",
       "      <td>/company/advercar</td>\n",
       "      <td>AdverCar</td>\n",
       "      <td>advertising</td>\n",
       "      <td>USA</td>\n",
       "      <td>CA</td>\n",
       "      <td>SF Bay</td>\n",
       "      <td>San Francisco</td>\n",
       "      <td>/company/1-800-flowers-com</td>\n",
       "      <td>1-800-FLOWERS.COM</td>\n",
       "      <td>None</td>\n",
       "      <td>USA</td>\n",
       "      <td>NY</td>\n",
       "      <td>New York</td>\n",
       "      <td>New York</td>\n",
       "      <td>series-a</td>\n",
       "      <td>2012-10-30</td>\n",
       "      <td>4</td>\n",
       "      <td>2000000</td>\n",
       "    </tr>\n",
       "    <tr>\n",
       "      <th>1</th>\n",
       "      <td>/company/launchgram</td>\n",
       "      <td>LaunchGram</td>\n",
       "      <td>news</td>\n",
       "      <td>USA</td>\n",
       "      <td>CA</td>\n",
       "      <td>SF Bay</td>\n",
       "      <td>Mountain View</td>\n",
       "      <td>/company/10xelerator</td>\n",
       "      <td>10Xelerator</td>\n",
       "      <td>finance</td>\n",
       "      <td>USA</td>\n",
       "      <td>OH</td>\n",
       "      <td>Columbus</td>\n",
       "      <td>Columbus</td>\n",
       "      <td>other</td>\n",
       "      <td>2012-01-23</td>\n",
       "      <td>1</td>\n",
       "      <td>20000</td>\n",
       "    </tr>\n",
       "    <tr>\n",
       "      <th>2</th>\n",
       "      <td>/company/utap</td>\n",
       "      <td>uTaP</td>\n",
       "      <td>messaging</td>\n",
       "      <td>USA</td>\n",
       "      <td>None</td>\n",
       "      <td>United States - Other</td>\n",
       "      <td>None</td>\n",
       "      <td>/company/10xelerator</td>\n",
       "      <td>10Xelerator</td>\n",
       "      <td>finance</td>\n",
       "      <td>USA</td>\n",
       "      <td>OH</td>\n",
       "      <td>Columbus</td>\n",
       "      <td>Columbus</td>\n",
       "      <td>other</td>\n",
       "      <td>2012-01-01</td>\n",
       "      <td>1</td>\n",
       "      <td>20000</td>\n",
       "    </tr>\n",
       "  </tbody>\n",
       "</table>\n",
       "</div>"
      ],
      "text/plain": [
       "     company_permalink company_name company_category_code  \\\n",
       "0    /company/advercar     AdverCar           advertising   \n",
       "1  /company/launchgram   LaunchGram                  news   \n",
       "2        /company/utap         uTaP             messaging   \n",
       "\n",
       "  company_country_code company_state_code         company_region  \\\n",
       "0                  USA                 CA                 SF Bay   \n",
       "1                  USA                 CA                 SF Bay   \n",
       "2                  USA               None  United States - Other   \n",
       "\n",
       "    company_city          investor_permalink      investor_name  \\\n",
       "0  San Francisco  /company/1-800-flowers-com  1-800-FLOWERS.COM   \n",
       "1  Mountain View        /company/10xelerator        10Xelerator   \n",
       "2           None        /company/10xelerator        10Xelerator   \n",
       "\n",
       "  investor_category_code investor_country_code investor_state_code  \\\n",
       "0                   None                   USA                  NY   \n",
       "1                finance                   USA                  OH   \n",
       "2                finance                   USA                  OH   \n",
       "\n",
       "  investor_region investor_city funding_round_type   funded_at  \\\n",
       "0        New York      New York           series-a  2012-10-30   \n",
       "1        Columbus      Columbus              other  2012-01-23   \n",
       "2        Columbus      Columbus              other  2012-01-01   \n",
       "\n",
       "   funded_quarter  raised_amount_usd  \n",
       "0               4            2000000  \n",
       "1               1              20000  \n",
       "2               1              20000  "
      ]
     },
     "execution_count": 404,
     "metadata": {},
     "output_type": "execute_result"
    }
   ],
   "source": [
    "verify_df = pd.read_sql('SELECT * FROM investments LIMIT 3', conn)\n",
    "verify_df"
   ]
  },
  {
   "cell_type": "code",
   "execution_count": 405,
   "metadata": {
    "collapsed": false
   },
   "outputs": [
    {
     "data": {
      "text/html": [
       "<div>\n",
       "<style scoped>\n",
       "    .dataframe tbody tr th:only-of-type {\n",
       "        vertical-align: middle;\n",
       "    }\n",
       "\n",
       "    .dataframe tbody tr th {\n",
       "        vertical-align: top;\n",
       "    }\n",
       "\n",
       "    .dataframe thead th {\n",
       "        text-align: right;\n",
       "    }\n",
       "</style>\n",
       "<table border=\"1\" class=\"dataframe\">\n",
       "  <thead>\n",
       "    <tr style=\"text-align: right;\">\n",
       "      <th></th>\n",
       "      <th>company_name</th>\n",
       "      <th>investor_name</th>\n",
       "      <th>raised_amount_usd</th>\n",
       "    </tr>\n",
       "  </thead>\n",
       "  <tbody>\n",
       "    <tr>\n",
       "      <th>0</th>\n",
       "      <td>0xdata</td>\n",
       "      <td>Nexus Venture Partners</td>\n",
       "      <td>1700000</td>\n",
       "    </tr>\n",
       "  </tbody>\n",
       "</table>\n",
       "</div>"
      ],
      "text/plain": [
       "  company_name           investor_name  raised_amount_usd\n",
       "0       0xdata  Nexus Venture Partners            1700000"
      ]
     },
     "execution_count": 405,
     "metadata": {},
     "output_type": "execute_result"
    }
   ],
   "source": [
    "# Testing\n",
    "q = \"\"\"\n",
    "    select company_name, investor_name, raised_amount_usd \n",
    "    from investments \n",
    "    where company_name = '0xdata'\n",
    "\"\"\"\n",
    "verify_df = pd.read_sql(q, conn)\n",
    "verify_df"
   ]
  },
  {
   "cell_type": "markdown",
   "metadata": {
    "collapsed": true
   },
   "source": [
    "# Data analysis"
   ]
  },
  {
   "cell_type": "code",
   "execution_count": 406,
   "metadata": {
    "collapsed": false
   },
   "outputs": [],
   "source": [
    "query = '''\n",
    "    SELECT \n",
    "        company_name, \n",
    "        company_category_code,\n",
    "        investor_name,\n",
    "        funding_round_type,\n",
    "        raised_amount_usd\n",
    "    FROM \n",
    "        investments\n",
    "'''\n",
    "results_df = pd.read_sql(query, conn)"
   ]
  },
  {
   "cell_type": "code",
   "execution_count": 407,
   "metadata": {
    "collapsed": false
   },
   "outputs": [],
   "source": [
    "grouped = results_df.groupby(by='company_name').raised_amount_usd.sum()\n",
    "ncompanies = results_df.nunique().company_name \n",
    "ordered = grouped.sort_values()"
   ]
  },
  {
   "cell_type": "markdown",
   "metadata": {},
   "source": [
    "##  What proportion of the total amount of funds did the top 10% raise?"
   ]
  },
  {
   "cell_type": "code",
   "execution_count": 408,
   "metadata": {
    "collapsed": false
   },
   "outputs": [
    {
     "name": "stdout",
     "output_type": "stream",
     "text": [
      "457631322689 / 681732187973\n"
     ]
    }
   ],
   "source": [
    "top10 = ordered.tail(int(round(ncompanies*.10)))\n",
    "print(top10.sum(), '/', grouped.sum())"
   ]
  },
  {
   "cell_type": "markdown",
   "metadata": {},
   "source": [
    "## What proportion of the total amount of funds did the top 1% raise?"
   ]
  },
  {
   "cell_type": "code",
   "execution_count": 409,
   "metadata": {
    "collapsed": false
   },
   "outputs": [
    {
     "name": "stdout",
     "output_type": "stream",
     "text": [
      "179373534008 / 681732187973\n"
     ]
    }
   ],
   "source": [
    "top1 = ordered.tail(int(round(ncompanies*.01)))\n",
    "print(top1.sum(), '/', grouped.sum())"
   ]
  },
  {
   "cell_type": "markdown",
   "metadata": {},
   "source": [
    "## What proportion of the total amount of funds did the bottom 10% raise?"
   ]
  },
  {
   "cell_type": "code",
   "execution_count": 410,
   "metadata": {
    "collapsed": false
   },
   "outputs": [
    {
     "name": "stdout",
     "output_type": "stream",
     "text": [
      "0 / 681732187973\n"
     ]
    }
   ],
   "source": [
    "bottom10 = ordered.head(int(round(ncompanies*.10)))\n",
    "print(bottom10.sum(), '/', grouped.sum())"
   ]
  },
  {
   "cell_type": "markdown",
   "metadata": {},
   "source": [
    "## What proportion of the total amount of funds did the bottom 1% raise?"
   ]
  },
  {
   "cell_type": "code",
   "execution_count": 411,
   "metadata": {
    "collapsed": false
   },
   "outputs": [
    {
     "name": "stdout",
     "output_type": "stream",
     "text": [
      "0 / 681732187973\n"
     ]
    }
   ],
   "source": [
    "bottom1 = ordered.head(int(round(ncompanies*.01)))\n",
    "print(bottom1.sum(), '/', grouped.sum())"
   ]
  },
  {
   "cell_type": "markdown",
   "metadata": {},
   "source": [
    "## Which category of company attracted the most investments?"
   ]
  },
  {
   "cell_type": "code",
   "execution_count": 412,
   "metadata": {
    "collapsed": false
   },
   "outputs": [
    {
     "data": {
      "text/plain": [
       "company_category_code\n",
       "biotech    110396423062\n",
       "Name: raised_amount_usd, dtype: int64"
      ]
     },
     "execution_count": 412,
     "metadata": {},
     "output_type": "execute_result"
    }
   ],
   "source": [
    "results_df.groupby(by='company_category_code').raised_amount_usd.sum().sort_values().tail(1)"
   ]
  },
  {
   "cell_type": "markdown",
   "metadata": {},
   "source": [
    "## Which investor contributed the most money (across all startups)?"
   ]
  },
  {
   "cell_type": "code",
   "execution_count": 413,
   "metadata": {
    "collapsed": false
   },
   "outputs": [
    {
     "data": {
      "text/plain": [
       "investor_name\n",
       "Kleiner Perkins Caufield & Byers    11217826376\n",
       "Name: raised_amount_usd, dtype: int64"
      ]
     },
     "execution_count": 413,
     "metadata": {},
     "output_type": "execute_result"
    }
   ],
   "source": [
    "results_df.groupby(by='investor_name').raised_amount_usd.sum().sort_values().tail(1)"
   ]
  },
  {
   "cell_type": "markdown",
   "metadata": {},
   "source": [
    "## Which investors contributed the most money per startup?"
   ]
  },
  {
   "cell_type": "code",
   "execution_count": 414,
   "metadata": {
    "collapsed": false
   },
   "outputs": [
    {
     "data": {
      "text/plain": [
       "company_name       investor_name                                    \n",
       "#waywire           First Round Capital                                  1.0\n",
       "                   Innovation Endeavors                                 1.0\n",
       "                   Jeff Weiner                                          1.0\n",
       "                   Oprah Winfrey                                        1.0\n",
       "                   Troy Carter                                          1.0\n",
       "0xdata             Nexus Venture Partners                               1.0\n",
       "1-800-DENTIST      Bain Capital Ventures                                1.0\n",
       "                   Cue Ball                                             1.0\n",
       "1000memories       Caterina Fake                                        1.0\n",
       "                   Chris Sacca                                          1.0\n",
       "                   FLOODGATE                                            1.0\n",
       "                   Felicis Ventures                                     1.0\n",
       "                   Greylock Partners                                    1.0\n",
       "                   Keith Rabois                                         1.0\n",
       "                   Paul Buchheit                                        1.0\n",
       "                   Ron Conway                                           1.0\n",
       "100Plus            Band of Angels                                       1.0\n",
       "                   Felicis Ventures                                     1.0\n",
       "                   Greylock Partners                                    1.0\n",
       "1010data           Norwest Venture Partners                             1.0\n",
       "11i Solutions      Steel Pier Capital Advisors                          1.0\n",
       "121nexus           Mayfly Capital, LLC                                  1.0\n",
       "12Society          Daniel Broukhim                                      1.0\n",
       "                   Diego Berdakin                                       1.0\n",
       "                   Don Hutchison                                        1.0\n",
       "                   Lightbank                                            1.0\n",
       "                   Michael Broukhim                                     1.0\n",
       "1366 Technologies  North Bridge Venture Partners                        1.0\n",
       "                   Polaris Venture Partners                             1.0\n",
       "140 Proof          BlueRun Ventures                                     1.0\n",
       "                                                                       ... \n",
       "weendy             Archimedes Labs                                      1.0\n",
       "                   Buddy Arnheim                                        1.0\n",
       "                   Georgios Papadopoulos                                1.0\n",
       "                   Marco Marinucci                                      1.0\n",
       "                   Monthly Ventures                                     1.0\n",
       "whereIstand.com    Chuck Zegar                                          1.0\n",
       "wmbly              Anonymous Angel                                      1.0\n",
       "woodpellets.com    .406 Ventures                                        1.0\n",
       "writewith          Y Combinator                                         1.0\n",
       "wunderloop         Draper Richards                                      1.0\n",
       "                   Howard Hartenbaum                                    1.0\n",
       "                   Klaus Hommels                                        1.0\n",
       "                   Niklas Zennstrm                                     1.0\n",
       "xAd                Palisades Ventures                                   1.0\n",
       "                   Silicon Valley Bank                                  1.0\n",
       "                   SoftBank Capital                                     1.0\n",
       "xG Technology      Blooston, Mordkofsky, Dicken, Duffy & Prendergast    1.0\n",
       "xkoto              GrandBanks Capital                                   1.0\n",
       "                   GrowthWorks Capital                                  1.0\n",
       "y prime            Ballast Point Ventures                               1.0\n",
       "yaM Labs           Foresight Ventures                                   1.0\n",
       "ybuy               Jim Patterson                                        1.0\n",
       "                   TomorrowVentures                                     1.0\n",
       "zozi               500 Startups                                         1.0\n",
       "                   LaunchCapital                                        1.0\n",
       "                   PAR Capital Ventures                                 1.0\n",
       "zulily             Andreessen Horowitz                                  1.0\n",
       "zuuka!             Corporate Finance Partners                           1.0\n",
       "                   HTGF                                                 1.0\n",
       "                   venturecapital.de                                    1.0\n",
       "Name: raised_amount_usd, Length: 26284, dtype: float64"
      ]
     },
     "execution_count": 414,
     "metadata": {},
     "output_type": "execute_result"
    }
   ],
   "source": [
    "sums = results_df.groupby(by=['company_name', 'investor_name']).raised_amount_usd.sum()\n",
    "ranked = sums.groupby(by='company_name').rank(method='dense', ascending=False)\n",
    "maxes = ranked[ranked == 1]\n",
    "maxes\n",
    "#maxes.loc[['Clearwire', '#waywire', '0xdata']] # Get a sample subset"
   ]
  },
  {
   "cell_type": "markdown",
   "metadata": {},
   "source": [
    "## Which funding round was the most popular? Which was the least popular?"
   ]
  },
  {
   "cell_type": "code",
   "execution_count": 415,
   "metadata": {
    "collapsed": false
   },
   "outputs": [
    {
     "data": {
      "text/plain": [
       "series-a          13938\n",
       "series-c+         10870\n",
       "angel              8989\n",
       "venture            8917\n",
       "series-b           8794\n",
       "other               964\n",
       "private-equity      357\n",
       "post-ipo             33\n",
       "crowdfunding          5\n",
       "Name: funding_round_type, dtype: int64"
      ]
     },
     "execution_count": 415,
     "metadata": {},
     "output_type": "execute_result"
    }
   ],
   "source": [
    "rounds = results_df.funding_round_type.value_counts()\n",
    "rounds"
   ]
  },
  {
   "cell_type": "code",
   "execution_count": 416,
   "metadata": {
    "collapsed": false
   },
   "outputs": [
    {
     "data": {
      "text/plain": [
       "'series-a'"
      ]
     },
     "execution_count": 416,
     "metadata": {},
     "output_type": "execute_result"
    }
   ],
   "source": [
    "# Most popular\n",
    "rounds.idxmax()"
   ]
  },
  {
   "cell_type": "code",
   "execution_count": 417,
   "metadata": {
    "collapsed": false
   },
   "outputs": [
    {
     "data": {
      "text/plain": [
       "'crowdfunding'"
      ]
     },
     "execution_count": 417,
     "metadata": {},
     "output_type": "execute_result"
    }
   ],
   "source": [
    "# Least popular\n",
    "rounds.idxmin()"
   ]
  }
 ],
 "metadata": {
  "anaconda-cloud": {},
  "kernelspec": {
   "display_name": "Python 3",
   "language": "python",
   "name": "python3"
  },
  "language_info": {
   "codemirror_mode": {
    "name": "ipython",
    "version": 3
   },
   "file_extension": ".py",
   "mimetype": "text/x-python",
   "name": "python",
   "nbconvert_exporter": "python",
   "pygments_lexer": "ipython3",
   "version": "3.4.3"
  }
 },
 "nbformat": 4,
 "nbformat_minor": 2
}
