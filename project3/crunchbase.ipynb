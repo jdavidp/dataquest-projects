{
 "cells": [
  {
   "cell_type": "code",
   "execution_count": null,
   "metadata": {
    "collapsed": true
   },
   "outputs": [],
   "source": [
    "import pandas as pd"
   ]
  },
  {
   "cell_type": "markdown",
   "metadata": {},
   "source": [
    "# Data snapshot"
   ]
  },
  {
   "cell_type": "code",
   "execution_count": null,
   "metadata": {
    "collapsed": false
   },
   "outputs": [],
   "source": [
    "df = pd.read_csv('crunchbase-investments.csv', encoding='ISO-8859-1', low_memory=False)\n",
    "df.head(5)"
   ]
  },
  {
   "cell_type": "code",
   "execution_count": null,
   "metadata": {
    "collapsed": false
   },
   "outputs": [],
   "source": [
    "df.isnull().sum()"
   ]
  },
  {
   "cell_type": "code",
   "execution_count": null,
   "metadata": {
    "collapsed": false
   },
   "outputs": [],
   "source": [
    "df.describe()"
   ]
  },
  {
   "cell_type": "code",
   "execution_count": null,
   "metadata": {
    "collapsed": false
   },
   "outputs": [],
   "source": [
    "df.shape"
   ]
  },
  {
   "cell_type": "markdown",
   "metadata": {},
   "source": [
    "# Unnecessary columns\n",
    "\n",
    "We can drop/exclude the columns **`funded_month`** and **`funded_year`** because they contain redundant info that is already contained in **`funded_at`**."
   ]
  },
  {
   "cell_type": "markdown",
   "metadata": {
    "collapsed": true
   },
   "source": [
    "# Missing value counts"
   ]
  },
  {
   "cell_type": "code",
   "execution_count": null,
   "metadata": {
    "collapsed": false
   },
   "outputs": [],
   "source": [
    "use_cols = ['investor_region', 'investor_permalink', 'investor_name',\n",
    "        'investor_country_code', 'investor_city', 'investor_category_code', \n",
    "        'funding_round_type', 'company_category_code', 'funded_at', \n",
    "        'company_state_code', 'company_region', 'company_permalink', \n",
    "        'company_name', 'company_country_code', 'company_city', \n",
    "        'investor_state_code', 'funded_quarter', 'raised_amount_usd']\n",
    "\n",
    "chunk_iter = pd.read_csv('crunchbase-investments.csv', chunksize=5000, encoding='ISO-8859-1', usecols=use_cols)\n",
    "\n",
    "for chunk in chunk_iter:    \n",
    "    missing_value_counts = chunk.isnull().sum()\n",
    "    print(missing_value_counts)\n",
    "    \n",
    "    print('='*50)"
   ]
  },
  {
   "cell_type": "markdown",
   "metadata": {},
   "source": [
    "# Memory footprint"
   ]
  },
  {
   "cell_type": "code",
   "execution_count": null,
   "metadata": {
    "collapsed": false
   },
   "outputs": [],
   "source": [
    "use_cols = ['investor_region', 'investor_permalink', 'investor_name',\n",
    "        'investor_country_code', 'investor_city', 'investor_category_code', \n",
    "        'funding_round_type', 'company_category_code', 'funded_at', \n",
    "        'company_state_code', 'company_region', 'company_permalink', \n",
    "        'company_name', 'company_country_code', 'company_city', \n",
    "        'investor_state_code', 'funded_quarter', 'raised_amount_usd']\n",
    "\n",
    "total_memory = 0\n",
    "chunk_iter = pd.read_csv('crunchbase-investments.csv', chunksize=5000, encoding='ISO-8859-1', usecols=use_cols)\n",
    "for chunk in chunk_iter:    \n",
    "    chunk_memory = chunk.memory_usage(deep=True, index=False).sum()\n",
    "    total_memory += chunk_memory    \n",
    "    print('Chunk memory usage (MB) =', chunk_memory/(1024*1024))\n",
    "\n",
    "print('-'*50)\n",
    "print('Total memory usage across all chunks (MB) =', total_memory/(1024*1024))"
   ]
  },
  {
   "cell_type": "markdown",
   "metadata": {},
   "source": [
    "# Column types (by reading entire file at once)"
   ]
  },
  {
   "cell_type": "code",
   "execution_count": null,
   "metadata": {
    "collapsed": false
   },
   "outputs": [],
   "source": [
    "use_cols = ['investor_region', 'investor_permalink', 'investor_name',\n",
    "        'investor_country_code', 'investor_city', 'investor_category_code', \n",
    "        'funding_round_type', 'company_category_code', 'funded_at', \n",
    "        'company_state_code', 'company_region', 'company_permalink', \n",
    "        'company_name', 'company_country_code', 'company_city', \n",
    "        'investor_state_code', 'funded_quarter', 'raised_amount_usd']\n",
    "\n",
    "df = pd.read_csv('crunchbase-investments.csv', encoding='ISO-8859-1', low_memory=False, usecols=use_cols)\n",
    "df.dtypes"
   ]
  },
  {
   "cell_type": "markdown",
   "metadata": {},
   "source": [
    "# Column types (by reading file in chunks)"
   ]
  },
  {
   "cell_type": "code",
   "execution_count": null,
   "metadata": {
    "collapsed": false
   },
   "outputs": [],
   "source": [
    "# A column's datatype may not be consistent across all chunks.\n",
    "# To get a column's datatype, we gather its datatype in each chunk, \n",
    "# then call max() to get its type with the highest precedence.\n",
    "# Example: 'investor_category_code' is listed as an object type \n",
    "# in one chunk and as a float in another chunk because all the\n",
    "# values in that chunk are NaN. Between object and float, the \n",
    "# object type has a higher precedence, so that's the datatype\n",
    "# returned.\n",
    "\n",
    "use_cols = ['investor_region', 'investor_permalink', 'investor_name',\n",
    "        'investor_country_code', 'investor_city', 'investor_category_code', \n",
    "        'funding_round_type', 'company_category_code', 'funded_at', \n",
    "        'company_state_code', 'company_region', 'company_permalink', \n",
    "        'company_name', 'company_country_code', 'company_city', \n",
    "        'investor_state_code', 'funded_quarter', 'raised_amount_usd']\n",
    "\n",
    "chunk_iter = pd.read_csv('crunchbase-investments.csv', chunksize=5000, encoding='ISO-8859-1', usecols=use_cols)\n",
    "datatypes = pd.Series()\n",
    "for chunk in chunk_iter:\n",
    "    d_types = chunk.dtypes\n",
    "    datatypes = datatypes.append(d_types)\n",
    "    \n",
    "colnames = datatypes.index\n",
    "datatypes = datatypes.groupby(by=colnames).max().sort_values()\n",
    "numeric_cols = datatypes[datatypes != 'object']\n",
    "string_cols = datatypes[datatypes == 'object']\n",
    "\n",
    "print('Numeric columns: ( n =', numeric_cols.size, ')\\n')\n",
    "print(numeric_cols)\n",
    "print('\\nString columns: ( n =', string_cols.size, ')\\n')\n",
    "print(string_cols)"
   ]
  },
  {
   "cell_type": "markdown",
   "metadata": {},
   "source": [
    "# Optimize numeric columns"
   ]
  },
  {
   "cell_type": "code",
   "execution_count": null,
   "metadata": {
    "collapsed": false,
    "scrolled": true
   },
   "outputs": [],
   "source": [
    "use_cols = ['investor_region', 'investor_permalink', 'investor_name',\n",
    "        'investor_country_code', 'investor_city', 'investor_category_code', \n",
    "        'funding_round_type', 'company_category_code', 'funded_at', \n",
    "        'company_state_code', 'company_region', 'company_permalink', \n",
    "        'company_name', 'company_country_code', 'company_city', \n",
    "        'investor_state_code', 'funded_quarter', 'raised_amount_usd']\n",
    "\n",
    "chunk_iter = pd.read_csv('crunchbase-investments.csv', chunksize=5000, encoding='ISO-8859-1', usecols=use_cols)\n",
    "for chunk in chunk_iter:\n",
    "    print(chunk['raised_amount_usd'].head(2)) \n",
    "    print('-'*50)"
   ]
  },
  {
   "cell_type": "markdown",
   "metadata": {},
   "source": [
    "From the results above, we can see that we should cast **`raised_amount_usd`** to an `int64`. The float type is overkill for this column.\n",
    "\n",
    "Let's make that change."
   ]
  },
  {
   "cell_type": "code",
   "execution_count": null,
   "metadata": {
    "collapsed": false,
    "scrolled": true
   },
   "outputs": [],
   "source": [
    "use_cols = ['investor_region', 'investor_permalink', 'investor_name',\n",
    "        'investor_country_code', 'investor_city', 'investor_category_code', \n",
    "        'funding_round_type', 'company_category_code', 'funded_at', \n",
    "        'company_state_code', 'company_region', 'company_permalink', \n",
    "        'company_name', 'company_country_code', 'company_city', \n",
    "        'investor_state_code', 'funded_quarter', 'raised_amount_usd']\n",
    "\n",
    "chunk_iter = pd.read_csv('crunchbase-investments.csv', chunksize=5000, encoding='ISO-8859-1', usecols=use_cols)\n",
    "for chunk in chunk_iter:\n",
    "    print('dtype before optimization:', chunk['raised_amount_usd'].dtype)\n",
    "    chunk['raised_amount_usd'] = chunk['raised_amount_usd'].fillna(0).astype('int')\n",
    "    print('dtype after optimization:', chunk['raised_amount_usd'].dtype)\n",
    "    print('-'*50)"
   ]
  },
  {
   "cell_type": "markdown",
   "metadata": {},
   "source": [
    "# Optimize string columns\n",
    "\n",
    "By looking at the string column **`funded_quarter`**, we can see that we could optimize it by extracting the number representing the quarter and then cast the column to an `int8` type.\n",
    "\n",
    "- Example: Extract the `4` from `2012-Q4`\t "
   ]
  },
  {
   "cell_type": "code",
   "execution_count": null,
   "metadata": {
    "collapsed": false,
    "scrolled": true
   },
   "outputs": [],
   "source": [
    "use_cols = ['investor_region', 'investor_permalink', 'investor_name',\n",
    "        'investor_country_code', 'investor_city', 'investor_category_code', \n",
    "        'funding_round_type', 'company_category_code', 'funded_at', \n",
    "        'company_state_code', 'company_region', 'company_permalink', \n",
    "        'company_name', 'company_country_code', 'company_city', \n",
    "        'investor_state_code', 'funded_quarter', 'raised_amount_usd']\n",
    "\n",
    "total_memory = 0\n",
    "chunk_iter = pd.read_csv('crunchbase-investments.csv', chunksize=5000, encoding='ISO-8859-1', usecols=use_cols)\n",
    "for chunk in chunk_iter:\n",
    "    # Optimize numeric column\n",
    "    chunk['raised_amount_usd'] = chunk['raised_amount_usd'].fillna(0).astype('int')\n",
    "\n",
    "    # Optimize 'funded_quarter' column\n",
    "    chunk['funded_quarter'] = chunk['funded_quarter'].str.extract(r'Q(\\d)', expand=False)\n",
    "    chunk['funded_quarter'] = chunk['funded_quarter'].fillna(-1)\n",
    "    chunk['funded_quarter'] = chunk['funded_quarter'].astype('int8')\n",
    "\n",
    "    chunk_memory = chunk.memory_usage(deep=True).sum()\n",
    "    total_memory += chunk_memory\n",
    "    print('Chunk memory usage (MB) =', chunk_memory/(1024*1024))\n",
    "\n",
    "print('-'*50)\n",
    "print('Total memory usage (MB) =', total_memory/(1024*1024))"
   ]
  },
  {
   "cell_type": "markdown",
   "metadata": {
    "collapsed": true
   },
   "source": [
    "From the results above, we can see that we were able to lower the total memory usage from 53.35 MB to 49.98 MB by optimizing some of the columns."
   ]
  },
  {
   "cell_type": "markdown",
   "metadata": {
    "collapsed": true
   },
   "source": [
    "# Load data into SQLite"
   ]
  },
  {
   "cell_type": "code",
   "execution_count": null,
   "metadata": {
    "collapsed": true
   },
   "outputs": [],
   "source": [
    "import sqlite3"
   ]
  },
  {
   "cell_type": "code",
   "execution_count": null,
   "metadata": {
    "collapsed": true,
    "scrolled": true
   },
   "outputs": [],
   "source": [
    "# Create and connect to a new database\n",
    "conn = sqlite3.connect('crunchbase.db')\n",
    "cur = conn.cursor()\n",
    "cur.execute('''DROP TABLE IF EXISTS investments''')\n",
    "\n",
    "use_cols = ['investor_region', 'investor_permalink', 'investor_name',\n",
    "        'investor_country_code', 'investor_city', 'investor_category_code', \n",
    "        'funding_round_type', 'company_category_code', 'funded_at', \n",
    "        'company_state_code', 'company_region', 'company_permalink', \n",
    "        'company_name', 'company_country_code', 'company_city', \n",
    "        'investor_state_code', 'funded_quarter', 'raised_amount_usd']\n",
    "\n",
    "total_memory = 0\n",
    "chunk_iter = pd.read_csv('crunchbase-investments.csv', chunksize=5000, encoding='ISO-8859-1', usecols=use_cols)\n",
    "for chunk in chunk_iter:\n",
    "    # Optimize numeric column\n",
    "    chunk['raised_amount_usd'] = chunk['raised_amount_usd'].fillna(0).astype('int')\n",
    "    \n",
    "    # Optimize 'funded_quarter' column\n",
    "    chunk['funded_quarter'] = chunk['funded_quarter'].str.extract(r'Q(\\d)', expand=False)\n",
    "    chunk['funded_quarter'] = chunk['funded_quarter'].fillna(-1)\n",
    "    chunk['funded_quarter'] = chunk['funded_quarter'].astype('int8')\n",
    "\n",
    "    # Write chunk out to database table\n",
    "    chunk.to_sql('investments', conn, if_exists='append', index=False)"
   ]
  },
  {
   "cell_type": "markdown",
   "metadata": {},
   "source": [
    "# Data load verification\n",
    "\n",
    "Let's now confirm that the data is in the database table."
   ]
  },
  {
   "cell_type": "code",
   "execution_count": null,
   "metadata": {
    "collapsed": false
   },
   "outputs": [],
   "source": [
    "results_df = pd.read_sql('PRAGMA table_info(investments)', conn)\n",
    "results_df"
   ]
  },
  {
   "cell_type": "code",
   "execution_count": null,
   "metadata": {
    "collapsed": false
   },
   "outputs": [],
   "source": [
    "results_df = pd.read_sql('SELECT COUNT(*) FROM investments', conn)\n",
    "results_df"
   ]
  },
  {
   "cell_type": "code",
   "execution_count": null,
   "metadata": {
    "collapsed": false
   },
   "outputs": [],
   "source": [
    "results_df = pd.read_sql('SELECT * FROM investments LIMIT 3', conn)\n",
    "results_df"
   ]
  },
  {
   "cell_type": "markdown",
   "metadata": {
    "collapsed": true
   },
   "source": [
    "# Data analysis"
   ]
  },
  {
   "cell_type": "code",
   "execution_count": null,
   "metadata": {
    "collapsed": false
   },
   "outputs": [],
   "source": [
    "query = '''\n",
    "    SELECT \n",
    "        company_name, \n",
    "        company_category_code,\n",
    "        investor_name,\n",
    "        raised_amount_usd\n",
    "    FROM \n",
    "        investments\n",
    "'''\n",
    "results_df = pd.read_sql(query, conn)"
   ]
  },
  {
   "cell_type": "code",
   "execution_count": null,
   "metadata": {
    "collapsed": false
   },
   "outputs": [],
   "source": [
    "grouped = results_df.groupby(by='company_name').raised_amount_usd.sum()\n",
    "ncompanies = results_df.nunique().company_name \n",
    "ordered = grouped.sort_values()"
   ]
  },
  {
   "cell_type": "markdown",
   "metadata": {},
   "source": [
    "##  What proportion of the total amount of funds did the top 10% raise?"
   ]
  },
  {
   "cell_type": "code",
   "execution_count": null,
   "metadata": {
    "collapsed": false
   },
   "outputs": [],
   "source": [
    "top10 = ordered.tail(int(round(ncompanies*.10)))\n",
    "print(top10.sum(), '/', grouped.sum())"
   ]
  },
  {
   "cell_type": "markdown",
   "metadata": {},
   "source": [
    "## What proportion of the total amount of funds did the top 1% raise?"
   ]
  },
  {
   "cell_type": "code",
   "execution_count": null,
   "metadata": {
    "collapsed": false
   },
   "outputs": [],
   "source": [
    "top1 = ordered.tail(int(round(ncompanies*.01)))\n",
    "print(top1.sum(), '/', grouped.sum())"
   ]
  },
  {
   "cell_type": "markdown",
   "metadata": {},
   "source": [
    "## What proportion of the total amount of funds did the bottom 10% raise?"
   ]
  },
  {
   "cell_type": "code",
   "execution_count": null,
   "metadata": {
    "collapsed": false
   },
   "outputs": [],
   "source": [
    "bottom10 = ordered.head(int(round(ncompanies*.10)))\n",
    "print(bottom10.sum(), '/', grouped.sum())"
   ]
  },
  {
   "cell_type": "markdown",
   "metadata": {},
   "source": [
    "## What proportion of the total amount of funds did the bottom 1% raise?"
   ]
  },
  {
   "cell_type": "code",
   "execution_count": null,
   "metadata": {
    "collapsed": false
   },
   "outputs": [],
   "source": [
    "bottom1 = ordered.head(int(round(ncompanies*.01)))\n",
    "print(bottom1.sum(), '/', grouped.sum())"
   ]
  },
  {
   "cell_type": "markdown",
   "metadata": {},
   "source": [
    "## Which category of company attracted the most investments?"
   ]
  },
  {
   "cell_type": "code",
   "execution_count": null,
   "metadata": {
    "collapsed": false
   },
   "outputs": [],
   "source": [
    "results_df.groupby(by='company_category_code').raised_amount_usd.sum().sort_values().tail(1)"
   ]
  },
  {
   "cell_type": "markdown",
   "metadata": {},
   "source": [
    "## Which investor contributed the most money (across all startups)?"
   ]
  },
  {
   "cell_type": "code",
   "execution_count": null,
   "metadata": {
    "collapsed": false
   },
   "outputs": [],
   "source": [
    "results_df.groupby(by='investor_name').raised_amount_usd.sum().sort_values().tail(1)"
   ]
  },
  {
   "cell_type": "markdown",
   "metadata": {},
   "source": [
    "## Which investors contributed the most money per startup?"
   ]
  },
  {
   "cell_type": "code",
   "execution_count": null,
   "metadata": {
    "collapsed": false
   },
   "outputs": [],
   "source": [
    "#g = results_df.groupby(by=['company_name', 'investor_name'])\n",
    "#type(g)"
   ]
  },
  {
   "cell_type": "markdown",
   "metadata": {},
   "source": [
    "## Which funding round was the most popular? Which was the least popular?"
   ]
  },
  {
   "cell_type": "code",
   "execution_count": null,
   "metadata": {
    "collapsed": true
   },
   "outputs": [],
   "source": []
  },
  {
   "cell_type": "code",
   "execution_count": null,
   "metadata": {
    "collapsed": true
   },
   "outputs": [],
   "source": []
  }
 ],
 "metadata": {
  "anaconda-cloud": {},
  "kernelspec": {
   "display_name": "Python 3",
   "language": "python",
   "name": "python3"
  },
  "language_info": {
   "codemirror_mode": {
    "name": "ipython",
    "version": 3
   },
   "file_extension": ".py",
   "mimetype": "text/x-python",
   "name": "python",
   "nbconvert_exporter": "python",
   "pygments_lexer": "ipython3",
   "version": "3.4.3"
  }
 },
 "nbformat": 4,
 "nbformat_minor": 2
}
